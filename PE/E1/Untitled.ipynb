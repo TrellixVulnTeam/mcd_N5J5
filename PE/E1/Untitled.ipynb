{
 "cells": [
  {
   "cell_type": "markdown",
   "id": "485bc4d2",
   "metadata": {},
   "source": [
    "*Francisco Javier Sáez Maldonado*\n",
    "\n",
    "# Stochastic Systems -- Discrete Time Systems\n",
    "\n",
    "Consideramos la cadena de Markov:\n",
    "\n",
    "![Markov Chain](mc.png)\n",
    "\n",
    "En la que asumimos que cada estado hay una flecha hasta sí mismo que hace que las probabilidades en la salida sean $1$ y $p=0.3$.\n",
    "\n",
    "Únicamente con esto, podemos definir la matriz de transición:\n",
    "\n",
    "$$\n",
    "P=\\begin{pmatrix}\n",
    "1-p & p & 0 & 0 & 0 & 0 \\\\\n",
    "0 & 1-p &  p/2 & 0 & p/2 & 0 \\\\\n",
    "1/4 & 0 & 1/4 & 1/4 & 1/4 & 0\\\\\n",
    "q & 0 & 0 & 0.9-q & 0.1 & 0 \\\\\n",
    "0 & 0 & 0 & 0 & 1/2 & 1/2 \\\\\n",
    "0 & 0 & 0 & 1/4 & 1/2 & 1/4 \n",
    "\\end{pmatrix}\n",
    "$$\n"
   ]
  },
  {
   "cell_type": "code",
   "execution_count": 8,
   "id": "1e80115d",
   "metadata": {},
   "outputs": [],
   "source": [
    "import numpy as np"
   ]
  },
  {
   "cell_type": "code",
   "execution_count": 9,
   "id": "d54a1530",
   "metadata": {},
   "outputs": [
    {
     "ename": "NameError",
     "evalue": "name 'q' is not defined",
     "output_type": "error",
     "traceback": [
      "\u001b[0;31m---------------------------------------------------------------------------\u001b[0m",
      "\u001b[0;31mNameError\u001b[0m                                 Traceback (most recent call last)",
      "\u001b[0;32m/tmp/ipykernel_3526/550612703.py\u001b[0m in \u001b[0;36m<module>\u001b[0;34m\u001b[0m\n\u001b[1;32m      4\u001b[0m     \u001b[0;34m[\u001b[0m \u001b[0;36m0.0\u001b[0m\u001b[0;34m,\u001b[0m\u001b[0;36m1.0\u001b[0m\u001b[0;34m-\u001b[0m\u001b[0mp\u001b[0m\u001b[0;34m,\u001b[0m \u001b[0mp\u001b[0m\u001b[0;34m/\u001b[0m\u001b[0;36m2.0\u001b[0m\u001b[0;34m,\u001b[0m \u001b[0;36m0.0\u001b[0m \u001b[0;34m,\u001b[0m \u001b[0mp\u001b[0m\u001b[0;34m/\u001b[0m\u001b[0;36m2.0\u001b[0m\u001b[0;34m,\u001b[0m \u001b[0;36m0.0\u001b[0m\u001b[0;34m]\u001b[0m\u001b[0;34m,\u001b[0m\u001b[0;34m\u001b[0m\u001b[0;34m\u001b[0m\u001b[0m\n\u001b[1;32m      5\u001b[0m     \u001b[0;34m[\u001b[0m \u001b[0;36m0.25\u001b[0m\u001b[0;34m,\u001b[0m \u001b[0;36m0.0\u001b[0m\u001b[0;34m,\u001b[0m \u001b[0;36m0.25\u001b[0m\u001b[0;34m,\u001b[0m \u001b[0;36m0.25\u001b[0m\u001b[0;34m,\u001b[0m \u001b[0;36m0.25\u001b[0m\u001b[0;34m,\u001b[0m \u001b[0;36m0.0\u001b[0m\u001b[0;34m]\u001b[0m\u001b[0;34m,\u001b[0m\u001b[0;34m\u001b[0m\u001b[0;34m\u001b[0m\u001b[0m\n\u001b[0;32m----> 6\u001b[0;31m     \u001b[0;34m[\u001b[0m \u001b[0mq\u001b[0m\u001b[0;34m,\u001b[0m \u001b[0;36m0.0\u001b[0m\u001b[0;34m,\u001b[0m \u001b[0;36m0.0\u001b[0m\u001b[0;34m,\u001b[0m \u001b[0;36m0.9\u001b[0m\u001b[0;34m-\u001b[0m\u001b[0mq\u001b[0m\u001b[0;34m,\u001b[0m \u001b[0;36m0.1\u001b[0m\u001b[0;34m,\u001b[0m \u001b[0;36m0.0\u001b[0m\u001b[0;34m]\u001b[0m\u001b[0;34m,\u001b[0m\u001b[0;34m\u001b[0m\u001b[0;34m\u001b[0m\u001b[0m\n\u001b[0m\u001b[1;32m      7\u001b[0m     \u001b[0;34m[\u001b[0m \u001b[0;36m0.0\u001b[0m\u001b[0;34m,\u001b[0m \u001b[0;36m0.0\u001b[0m\u001b[0;34m,\u001b[0m \u001b[0;36m0.0\u001b[0m\u001b[0;34m,\u001b[0m \u001b[0;36m0.0\u001b[0m\u001b[0;34m,\u001b[0m \u001b[0;36m0.5\u001b[0m\u001b[0;34m,\u001b[0m \u001b[0;36m0.5\u001b[0m\u001b[0;34m]\u001b[0m\u001b[0;34m,\u001b[0m\u001b[0;34m\u001b[0m\u001b[0;34m\u001b[0m\u001b[0m\n\u001b[1;32m      8\u001b[0m     [ 0.0, 0.0, 0.0, 0.25, 0.5, 0.25]])     \n",
      "\u001b[0;31mNameError\u001b[0m: name 'q' is not defined"
     ]
    }
   ],
   "source": [
    "p = 0.3\n",
    "q = 0.1\n",
    "P1 = np.array([\n",
    "    [ 1.0-p, p, 0.0, 0.0, 0.0, 0.0],                  \n",
    "    [ 0.0,1.0-p, p/2.0, 0.0 , p/2.0, 0.0],\n",
    "    [ 0.25, 0.0, 0.25, 0.25, 0.25, 0.0],\n",
    "    [ q, 0.0, 0.0, 0.9-q, 0.1, 0.0],\n",
    "    [ 0.0, 0.0, 0.0, 0.0, 0.5, 0.5],\n",
    "    [ 0.0, 0.0, 0.0, 0.25, 0.5, 0.25]])     "
   ]
  },
  {
   "cell_type": "code",
   "execution_count": null,
   "id": "8714730d",
   "metadata": {},
   "outputs": [],
   "source": [
    "class MarkovChain:\n",
    "\n",
    "    def __init__(P):\n",
    "        self.P_ = P\n",
    "        \n"
   ]
  }
 ],
 "metadata": {
  "kernelspec": {
   "display_name": "Python 3 (ipykernel)",
   "language": "python",
   "name": "python3"
  },
  "language_info": {
   "codemirror_mode": {
    "name": "ipython",
    "version": 3
   },
   "file_extension": ".py",
   "mimetype": "text/x-python",
   "name": "python",
   "nbconvert_exporter": "python",
   "pygments_lexer": "ipython3",
   "version": "3.9.7"
  }
 },
 "nbformat": 4,
 "nbformat_minor": 5
}
