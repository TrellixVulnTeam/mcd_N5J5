{
 "cells": [
  {
   "cell_type": "markdown",
   "id": "485bc4d2",
   "metadata": {},
   "source": [
    "*Francisco Javier Sáez Maldonado*\n",
    "\n",
    "Consideramos la cadena de Markov:\n",
    "\n",
    "![Markov Chain](mc.png)\n",
    "\n",
    "En la que asumimos que cada estado hay una flecha hasta sí mismo que hace que las probabilidades en la salida sean $1$ y $p=0.3$.\n",
    "\n",
    "Únicamente con esto, podemos definir la matriz de transición:\n",
    "\n",
    "$$\n",
    "P=\\begin{pmatrix}\n",
    "1-p & p & 0 & 0 & 0 & 0 \\\\\n",
    "0 & 1-p &  p/2 & 0 & p/2 & 0 \\\\\n",
    "1/4 & 0 & 1/4 & 1/4 & 1/4 & 0\\\\\n",
    "q & 0 & 0 & 0.9-q & 0.1 & 0 \\\\\n",
    "0 & 0 & 0 & 0 & 1/2 & 1/2 \\\\\n",
    "0 & 0 & 0 & 1/4 & 1/2 & 1/4 \n",
    "\\end{pmatrix}\n",
    "$$\n",
    "\n",
    "Con esto, queda resuelto el primer apartado de la entrega. Continuamos con el resto. Importamos primero las librerías necesarias para realizar los ejercicios."
   ]
  },
  {
   "cell_type": "code",
   "execution_count": 1,
   "id": "1e80115d",
   "metadata": {},
   "outputs": [],
   "source": [
    "import numpy as np\n",
    "from numpy import random\n",
    "import matplotlib.pyplot as plt\n",
    "from scipy.optimize import nnls\n",
    "from tqdm import tqdm\n",
    "np.random.seed(123)"
   ]
  },
  {
   "cell_type": "markdown",
   "id": "6326ce20",
   "metadata": {},
   "source": [
    "Definimos ahora dos matrices, que contendrán las dos cadenas de Markov que vamos a considerar."
   ]
  },
  {
   "cell_type": "code",
   "execution_count": 2,
   "id": "d54a1530",
   "metadata": {},
   "outputs": [],
   "source": [
    "p = 0.3\n",
    "q = 0.0\n",
    "P1 = np.array([\n",
    "    [ 1.0-p, p, 0.0, 0.0, 0.0, 0.0],                  \n",
    "    [ 0.0,1.0-p, p/2.0, 0.0 , p/2.0, 0.0],\n",
    "    [ 0.25, 0.0, 0.25, 0.25, 0.25, 0.0],\n",
    "    [ q, 0.0, 0.0, 0.9-q, 0.1, 0.0],\n",
    "    [ 0.0, 0.0, 0.0, 0.0, 0.5, 0.5],\n",
    "    [ 0.0, 0.0, 0.0, 0.25, 0.5, 0.25]])\n",
    "q = 0.1\n",
    "P2 = np.array([\n",
    "    [ 1.0-p, p, 0.0, 0.0, 0.0, 0.0],                  \n",
    "    [ 0.0,1.0-p, p/2.0, 0.0 , p/2.0, 0.0],\n",
    "    [ 0.25, 0.0, 0.25, 0.25, 0.25, 0.0],\n",
    "    [ q, 0.0, 0.0, 0.9-q, 0.1, 0.0],\n",
    "    [ 0.0, 0.0, 0.0, 0.0, 0.5, 0.5],\n",
    "    [ 0.0, 0.0, 0.0, 0.25, 0.5, 0.25]])"
   ]
  },
  {
   "cell_type": "markdown",
   "id": "b1c05f9f",
   "metadata": {},
   "source": [
    "Podemos definir ahora una clase `MarkovChain`. Esta clase estará inicializada únicamente con la matriz de transición que determina a nuestra cadena de Markov. Realizamos una serie de métodos para la clase, que nos realizarán esencialmente los ejercicios que tenemos que hacer. Entre ellos están:\n",
    "\n",
    "- `_next`, que nos devuelve un paso empírico en una simulación de un experimento usando una cadena de Markov.\n",
    "- `_simulation`, que nos realiza la simulación completa (utilizando la función anterior)\n",
    "- `_simulation_position`, que hace una simulación hasta encontrar un estado y devuelve la posición en la que se encuentra, o $-1$.\n",
    "- `empirical_h`, que nos calcula la probabilidad probabilidad de pasar por un estado, usando $n$ experimentos diferentes\n",
    "- `empirical_k`, que nos calcula la media de tiempo en alcanzar un estado usando $n$ experimentos\n",
    "- `theoretical_h`, `theoretical_k`, que calculan las cantidades anteriores pero de forma teórica usando la matriz $P$ y resolviendo el sistema de ecuaciones teórico (necesario para la cuarta pregunta).\n",
    "- `probability_H`, que nos calcula la probabilidad teórica de $P[H_m^A = t]$.\n",
    "- `probability_empirical_H`, que nos calcula la probabilidad empírica $P[H_m^A = t]$ realizando simulaciones.\n"
   ]
  },
  {
   "cell_type": "code",
   "execution_count": 3,
   "id": "8714730d",
   "metadata": {},
   "outputs": [],
   "source": [
    "class MarkovChain:\n",
    "\n",
    "    \"\"\"\n",
    "    Class that encapsulates the behaviour of a Markov chain, determined by its transition matrix.\n",
    "    This class makes simulations using different methods (with and without stops) and computes both \n",
    "    first hitting time and average hitting time between any two given states, using the class methods.\n",
    "    \"\"\"\n",
    "    def __init__(self, P):\n",
    "        \"\"\"\n",
    "        Inicialization of the Markov chain\n",
    "        - P: transition matrix\n",
    "        \"\"\"\n",
    "        self.P = P\n",
    "        self.n = len(P[0])\n",
    "        \n",
    "        \n",
    "    def _next(self,curr_m):\n",
    "        \"\"\"\n",
    "        Simulate an empirical step using an uniform distribution.\n",
    "        Idea: divide [0,1] in n_states parts, where the measure of each\n",
    "        part is its probability and use cumulative_sum(probabilities) >= generated_number\n",
    "        - curr_m: current state\n",
    "        \"\"\"\n",
    "\n",
    "        # Generate from the Uniform(0,1)\n",
    "        gen = random.rand()\n",
    "   \n",
    "        # Return index of the first state that matches the condition\n",
    "        return int(np.where(np.cumsum(self.P[curr_m]) >= gen)[0][0])\n",
    "    \n",
    "    def _simulation(self, m_ini, t):\n",
    "        \"\"\"\n",
    "        Generate complete simulation of t time steps, beginning in the state m_ini\n",
    "        - m_ini: initial state\n",
    "        - t: time steps that will be done\n",
    "        \"\"\"\n",
    "        \n",
    "        # Initialize states\n",
    "        states = [0]*t\n",
    "        # Compute first jump\n",
    "        states[0] = self._next(m_ini)\n",
    "        # Loop to compute jumps\n",
    "        for i in range(1,t):\n",
    "            states[i] = self._next(states[i-1])\n",
    "    \n",
    "        return states\n",
    "    \n",
    "    def _simulation_position(self,m_ini,m_end,t):\n",
    "        \"\"\"\n",
    "        Generate a simulation that will stop in t time steps or right after finding the state m_end\n",
    "        - m_ini: initial state\n",
    "        - m_end: final state\n",
    "        - t: maximum time steps\n",
    "        \"\"\"\n",
    "        # Change the variable name\n",
    "        curr = m_ini\n",
    "        # Return if it is in the first step\n",
    "        if curr == m_end:\n",
    "            return 0\n",
    "        # Loop over the possible time steps\n",
    "        for i in range(1,t):\n",
    "            following = self._next(curr)\n",
    "            # Stop condition\n",
    "            if following == m_end:\n",
    "                return i\n",
    "            curr = following\n",
    "        \n",
    "        return -1\n",
    "        \n",
    "    \n",
    "    def empirical_h(self,m_ini, m_end, t, n):\n",
    "        \"\"\"\n",
    "        Compute the empirical hitting h_{m_ini}^{m_end} time, using n experiments of t time steps\n",
    "        - m_ini: initial state\n",
    "        - m_end: final state\n",
    "        - t: time steps\n",
    "        - n: number of experiments\n",
    "        \"\"\"\n",
    "        # Trivial case\n",
    "        if m_ini == m_end:\n",
    "            return 1.0\n",
    "        # Find if the searched state is in the simulation\n",
    "        hit = [1 if m_end in self._simulation(m_ini, t) else 0 for _ in range(n)]\n",
    "        # Obtain all hits\n",
    "        hits = np.sum(hit)\n",
    "        # Return probability\n",
    "        return hits/n\n",
    "    \n",
    "    def empirical_k(self, m_ini, m_end, t, n):\n",
    "        \"\"\"\n",
    "        Compute the average time k_{m_ini}^{m_end} of hitting m_end from m_ini, using n experiments of t time steps\n",
    "        - m_ini: initial state\n",
    "        - m_end: final state\n",
    "        - t: time steps\n",
    "        - n: number of experiments\n",
    "        \"\"\"\n",
    "        \n",
    "        if m_ini == m_end:\n",
    "            return 0.0\n",
    "        \n",
    "        # Get the simulations stopping if we find our position\n",
    "        simulations = [ self._simulation_position(m_ini,m_end,t) for _ in range(n)]\n",
    "        \n",
    "        # Return average or infinity\n",
    "        return np.Infinity if -1 in simulations else np.mean(simulations)\n",
    "        \n",
    "    def theoretical_h(self, m_end):\n",
    "        \"\"\"\n",
    "        Compute the theoretical hitting probability of the state m_end from any of the states\n",
    "        It uses the Matrix form of the Linear Equations system Ax = b\n",
    "        - m_end: final state\n",
    "        \"\"\"\n",
    "        # Compute the matrix A \n",
    "        A = self.P - np.diag(np.ones(self.n))\n",
    "        # Compute b\n",
    "        b = np.zeros(self.n)\n",
    "        # Force conditions to match the theorem conditions\n",
    "        b[m_end] = 1\n",
    "        A[m_end] = b\n",
    "        \n",
    "        # Solve using nnls\n",
    "        return nnls(A, b)[0]\n",
    "        \n",
    "        \n",
    "    def theoretical_k(self, m_end, m_ini = None):\n",
    "        \"\"\"\n",
    "        Compute the theoretical average hitting time of the state m_end from any of the states\n",
    "        It uses the Matrix form of the Linear Equations system Ax = b\n",
    "        - m_end: final state\n",
    "        - m_ini (optional). Used for infinite time corrections\n",
    "        \"\"\"\n",
    "        \n",
    "        # Check infinite time problem\n",
    "        if m_ini != None:\n",
    "            theo_h = self.theoretical_h(m_end)[m_ini]\n",
    "            if theo_h < 1:\n",
    "                return [np.Infinity]*self.n\n",
    "                \n",
    "        # Compute A and b\n",
    "        A = np.diag(np.ones(self.n)) - self.P\n",
    "        b = np.ones(self.n)\n",
    "        # Match the conditions of the theorem\n",
    "        b[m_end] = 0\n",
    "        A[m_end] = np.logical_not(b)\n",
    "        \n",
    "        # Solve using nnls\n",
    "        return nnls(A, b)[0]\n",
    "        \n",
    "    def probability_H(self, m_ini, m_end, max_t ):\n",
    "        \"\"\"\n",
    "        Computes theoretical probability of being in the state m_end from m_ini in exactly t movements, for\n",
    "        a range of ts: (0,max_t). It is computed using a recurrence explained in this notebook.\n",
    "        - m_ini: initial state\n",
    "        - m_end: final state\n",
    "        - max_t: maximum of the different time steps taken.\n",
    "        \"\"\"\n",
    "    \n",
    "        # Recurrence indexes, all but m_end\n",
    "        idx = list(np.arange(self.n))\n",
    "        idx.remove(m_end)\n",
    "        \n",
    "        # Result\n",
    "        g = np.zeros(max_t + 1)\n",
    "        \n",
    "        # Initial iteration, P[i,j]\n",
    "        f = self.P[idx,m_end]\n",
    "        \n",
    "        # Compute first 2 iterations separatedly since they are not computed the same way\n",
    "        g[0] = 0\n",
    "        g[1] = f[m_ini]\n",
    "        # Rest of iterations\n",
    "        for t in range(2,max_t + 1):\n",
    "            f = [f @ self.P[i,idx] for i in idx]\n",
    "            g[t] = f[m_ini]\n",
    "            \n",
    "        return g\n",
    "    \n",
    "    def probability_empirical_H(self,m_ini,m_end,max_t,n):\n",
    "        \"\"\"\n",
    "        Computes empirical probability of being in the state m_end from m_ini in exactly t movements, for\n",
    "        a range of ts: (0,max_t). n experiments are performed to achieve this.\n",
    "        - m_ini: initial state\n",
    "        - m_end: final state\n",
    "        - max_t: maximum of the different time steps taken.\n",
    "        - n: number of experiments.\n",
    "        \"\"\"\n",
    "        \n",
    "        g = np.zeros(max_t+1)\n",
    "        \n",
    "        g[0] = 0\n",
    "        for t in tqdm(range(1,max_t)):\n",
    "            # Get the simulations\n",
    "            simulation_positions = np.array([ self._simulation_position(m_ini,m_end, t) for _ in range(n)])\n",
    "            \n",
    "            # Get where we find it in the right position.\n",
    "            # t-1 is dued to how _simulation_position works\n",
    "            times = np.where(simulation_positions == t-1)[0]\n",
    "            \n",
    "            # Return probability\n",
    "            g[t-1] = len(times)/n\n",
    "            \n",
    "        return g\n",
    "        \n",
    "        \n",
    "        \n"
   ]
  },
  {
   "cell_type": "markdown",
   "id": "4cbe2c93",
   "metadata": {},
   "source": [
    "Con esta clase, podemos declarar nuestros objetos Cadena de Markov del siguiente modo (declaramos uno para cada una de las matrices de transición). Vamos a usar $t = 1000$ instantes de tiempo para evaluar todos los experimentos y, en el caso de tener que promediar la salida de varios experimentos, usaremos $n = 1000$ experimentos."
   ]
  },
  {
   "cell_type": "code",
   "execution_count": 4,
   "id": "c15a96e9",
   "metadata": {},
   "outputs": [],
   "source": [
    "n = 1000\n",
    "t = 1000\n",
    "mc = MarkovChain(P1)\n",
    "mc1 = MarkovChain(P2)"
   ]
  },
  {
   "cell_type": "markdown",
   "id": "343b9e6a",
   "metadata": {},
   "source": [
    "\n",
    "**Ejercicio 2.-** Simular el funcionamiento de la cadena y hacer una estimación de conjunto de $h_0^2$ y $h_0^5$ para $q = 0.1$ y $q = 0$.\n",
    "\n",
    "Ahora, podemos simular el funcionamiento de la cadena usando `empirical_h` sobre cada una de las cadenas para estimar $h_0^2$ y $h_0^5$."
   ]
  },
  {
   "cell_type": "code",
   "execution_count": 5,
   "id": "d517f944",
   "metadata": {},
   "outputs": [
    {
     "name": "stdout",
     "output_type": "stream",
     "text": [
      "Empirical probabilities h\n",
      "Con q = 0\n",
      "\t h02 = 0.53\n",
      "\t h05 = 1.0\n",
      "Con q = 0.1\n",
      "\t h02 = 1.0\n",
      "\t h05 = 1.0\n"
     ]
    }
   ],
   "source": [
    "print(\"Empirical probabilities h\")\n",
    "print(\"Con q = 0\")\n",
    "print(\"\\t h02 = {}\".format(mc.empirical_h(0 , 2 , n, t)))\n",
    "print(\"\\t h05 = {}\".format(mc.empirical_h(0 , 5 , n, t)))\n",
    "print(\"Con q = 0.1\")\n",
    "print(\"\\t h02 = {}\".format(mc1.empirical_h(0 , 2 , n, t)))\n",
    "print(\"\\t h05 = {}\".format(mc1.empirical_h(0 , 5 , n, t)))"
   ]
  },
  {
   "cell_type": "markdown",
   "id": "110ef3d9",
   "metadata": {},
   "source": [
    "Podemos ver que :\n",
    "\n",
    "- Cuando usamos $q = 0$, la probabilidad llegar de $0$ a $5$ ($h_0^5$), es $1$ , mientras que la de llegar del estado $0$ al $2$ ($h_0^2$) es de aproximadamente $\\frac{1}{2}$. Esto ocurre porque en el primer caso, tenemos una clase cerrada $\\{3,4,5\\}$ y por tanto, si ocurre la secuencia: $0\\to 1 \\to 4$, ya no hay forma de volver al segundo estado.\n",
    "\n",
    "- Al aumentar $q = 0.1$, la probabilidad de llegar del estado $0$ al $2$ pasa automáticamente a ser 1. Esto tiene sentido, Al *activar* la vuelta desde el nodo $3$ al nodo $0$, ya no tenemos esta clase cerrada y podemos volver al estado inicial.\n",
    "\n",
    "**Ejercicio 3.-** Simular el funcionamiento de la cadena y hacer una estimación de conjunto de $k_0^2$ y $k_4^2$ para $q = 0.1$ y $q = 0$."
   ]
  },
  {
   "cell_type": "code",
   "execution_count": 6,
   "id": "fa8fabb4",
   "metadata": {},
   "outputs": [
    {
     "name": "stdout",
     "output_type": "stream",
     "text": [
      "Empirical means k\n",
      "Con q = 0\n",
      "\t k02 = inf\n",
      "\t k42 = inf\n",
      "Con q = 0.1\n",
      "\t k02 = 41.457\n",
      "\t k42 = 77.131\n"
     ]
    }
   ],
   "source": [
    "print(\"Empirical means k\")\n",
    "print(\"Con q = 0\")\n",
    "print(\"\\t k02 = {}\".format(mc.empirical_k(0 , 2 , n, t)))\n",
    "print(\"\\t k42 = {}\".format(mc.empirical_k(4 , 2 , n, t)))\n",
    "print(\"Con q = 0.1\")\n",
    "print(\"\\t k02 = {}\".format(mc1.empirical_k(0 , 2 , n, t)))\n",
    "print(\"\\t k42 = {}\".format(mc1.empirical_k(4 , 2 , n, t)))"
   ]
  },
  {
   "cell_type": "markdown",
   "id": "94021ae5",
   "metadata": {},
   "source": [
    "Obtenemos las siguientes conclusiones:\n",
    "\n",
    "- Con $q = 0$, tenemos un comportamiento parecido al que ocurre en el caso del *first hitting time*. Empezando desde el estado $4$, que está en una clase cerrada, nunca se puede salir de esa clase. Empezando desde el $0$, al tener una clase cerrada, en algunos casos nunca se llegará al estado $2$, por lo que tendremos tiempos infinitos y la media será de nuevo infinito. \n",
    "\n",
    "- Repitiendo de nuevo el razonamiento, al eliminar la clase cerrada, siempre podremos llegar a todos los estados en cualquier momento, por lo que la media deja de ser infinito.\n",
    "\n",
    "**Ejercicio 4.-** Usar el sistema de ecuaciones lineares oportuno para determinar los valores teóricos correspondientes\n",
    "a las cantidades estimadas y comparar con los valores determinados por medio de la simulación\n",
    "\n",
    "Planteamos primero la base teórica. Sabemos que, el vector de las *hitting probabilities* $h_m^n$ de un conjunto $A\\subseteq M$, es decir $h^A = [h^A_m| m \\in M]'$ es la solución minimal no negativa del sistema:\n",
    "$$\n",
    "\\begin{cases}\n",
    "h_m^A = 1 & m \\in A\\\\\n",
    "h_m^A= \\sum_{n\\in M} P_{m,n} h_n^A & m \\notin A\n",
    "\\end{cases}\n",
    "$$\n",
    "\n",
    "Es por ello que, lo que debemos expresar nuestro sistema como un sistema lineal de la forma $Ax = b$. Dada la matriz de transición $P$ y el vector $h = [h_0^m,\\dots,h_n^m]'$. Podemos tomar como punto de partida el sistema $Ph = h$. Podemos despejarlo matricialmente para obtener el sistema $(P - I_n)h = 0$. Este sistema no está cumpliendo la primera restricción del teorema. Para conseguirlo, debemos\n",
    "\n",
    "- Sustituir la fila $m-$ésima por un vector $v = [0,\\dots,1,\\dots,0]$, donde el $1$ está en la posición $m$.\n",
    "- Sustituir el $0$ matricial por el vector $v^T$.\n",
    "\n",
    "Con estas condiciones, podemos tratar de buscar la solución minimal no negativa del sistema. Para ello, tenemos la función `nnls` de `scipy`, que nos resuelve el problema\n",
    "$$\n",
    "\\operatorname{arg}\\min_x || Ax-b||_2\\quad \\quad x \\geq 0,\n",
    "$$\n",
    "que es justo la solución que nos interesa.\n",
    "\n",
    "En nuestro caso, la función `mc.theoretical_h` nos da la probabilidad teórica de llegar al estado `m_end` empezando desde cada uno de los estados iniciales y  en un número de pasos de tiempo $t$."
   ]
  },
  {
   "cell_type": "code",
   "execution_count": 7,
   "id": "cd99490d",
   "metadata": {},
   "outputs": [
    {
     "name": "stdout",
     "output_type": "stream",
     "text": [
      "Theoretical probabilities h\n",
      "Con q = 0\n",
      "\t h02 = 0.5\n",
      "\t h05 = 0.9999999999999986\n",
      "Con q = 0.1\n",
      "\t h02 = 1.0000000000000007\n",
      "\t h05 = 0.9999999999999981\n"
     ]
    }
   ],
   "source": [
    "print(\"Theoretical probabilities h\")\n",
    "print(\"Con q = 0\")\n",
    "print(\"\\t h02 = {}\".format(mc.theoretical_h(2)[0]))\n",
    "print(\"\\t h05 = {}\".format(mc.theoretical_h(5)[0]))\n",
    "print(\"Con q = 0.1\")\n",
    "print(\"\\t h02 = {}\".format(mc1.theoretical_h(2)[0]))\n",
    "print(\"\\t h05 = {}\".format(mc1.theoretical_h(5)[0]))"
   ]
  },
  {
   "cell_type": "markdown",
   "id": "09061891",
   "metadata": {},
   "source": [
    "Vemos como obtenemos, salvo errores de redondeo, los mismos valores que se obtenían de forma empírica, por lo que podemos decir que nuestros resultados anteriores son correctos.\n",
    "\n",
    "Del mismo modo, sabemos que el vector de los *mean hitting times* $k_m^n$ de un conjunto $A \\subseteq M$, es decir, $k^A = [k_m^A | m \\in M]'$ es la solución minimal no negativa del sistema:\n",
    "$$\n",
    "\\begin{cases}\n",
    "k_m^A = 0 & m \\in A\\\\\n",
    "k_m^A= 1 + \\sum_{n\\in M} P_{m,n} k_n^A & m \\notin A\n",
    "\\end{cases}\n",
    "$$\n",
    "\n",
    "Cambiamos un poco el razonamiento, aunque es parecido al caso anterior. Podemos escribir la expresión de abajo como $k = 1 + Pk \\Rightarrow 1 = (I - P)$. Con esto, hacemos el mismo razonamiento que en el caso anterior, salvo que ahora nuestro vector $v$ será $v = [1,\\dots,0,\\dots,1]$, que tiene un $0$ en la posición $m$.\n",
    "\n",
    "Además, hay que tener en cuenta que si el valor medio es infinito, no podemos obtener esta solución mediante el sistema, pero sabemos que esto es equivalente a tener un $h_m^n < 1$, por lo que primero calculamos este valor y si ocurre que es menor que uno, devolveremos infinito."
   ]
  },
  {
   "cell_type": "code",
   "execution_count": 8,
   "id": "50b8d80a",
   "metadata": {},
   "outputs": [
    {
     "name": "stdout",
     "output_type": "stream",
     "text": [
      "Theoretical means k\n",
      "Con q = 0\n",
      "\t k02 = inf\n",
      "\t k42 = inf\n",
      "Con q = 0.1\n",
      "\t k02 = 43.33333333333339\n",
      "\t k42 = 73.33333333333343\n"
     ]
    }
   ],
   "source": [
    "print(\"Theoretical means k\")\n",
    "print(\"Con q = 0\")\n",
    "print(\"\\t k02 = {}\".format(mc.theoretical_k(2,m_ini = 0)[0]))\n",
    "print(\"\\t k42 = {}\".format(mc.theoretical_k(2,m_ini = 4)[4]))\n",
    "print(\"Con q = 0.1\")\n",
    "print(\"\\t k02 = {}\".format(mc1.theoretical_k(2, m_ini = 0)[0]))\n",
    "print(\"\\t k42 = {}\".format(mc1.theoretical_k(2, m_ini = 4)[4]))"
   ]
  },
  {
   "cell_type": "markdown",
   "id": "80d13016",
   "metadata": {},
   "source": [
    "De nuevo, obtenemos el resultado que habíamos obtenido empíricamente, por lo que podemos de nuevo reafirmarnos en que nuestro resultado anterior era correcto.\n",
    "\n",
    "**Ejercicio 5.-** En el caso $q =0.1$, dibujar el gráfico de \n",
    "$$\n",
    "g(t) = \\mathbb P[H_0^{\\{4\\}} = t]\n",
    "$$\n",
    "\n",
    "Se nos pide dibujar la función que nos da para cada instante de tiempo $t$, la probabilidad de que ese instante de tiempo $t$ sea el *first hitting time* del estado $4$ si hemos partido del $0$. Queremos el gráfico teórico. Podemos encontrar este valor de forma recurrente, en los siguientes pasos:\n",
    "\n",
    "1. Consideramos $k$ el estado final.\n",
    "2. Para llegar a $k$ desde otro estado $j\\neq k$, el *first hitting time* del estado $j$ debe ser $t-1$. Queremos calcular entonces $\\mathbb P[H_i^j = t-1]$. Debemos sumar en todos los posibles estados anteriores.\n",
    "3. De nuevo, para llegar hasta $j$ desde otro estado $z$, repetimos el razonamiento para obtener que tenemos que calcular $\\mathbb P[H_i^z = t-2]$. Debemos de nuevo sumar en todos los posibles estados anteriores.\n",
    "\n",
    "Si llamamos $f_{ij}^{(t)} = \\mathbb P[H_i^j = t]$ y sabiendo que $f_{ij}^{(1)} = P_{ij}$, en general, podemos hacer la recurrencia:\n",
    "$$\n",
    "f_{ij}^{(t)} = \\sum_{k \\neq j} P_{ik}f_{kj}^{(t-1)}\n",
    "$$"
   ]
  },
  {
   "cell_type": "code",
   "execution_count": 9,
   "id": "9fbe58eb",
   "metadata": {},
   "outputs": [],
   "source": [
    "def plot_probability_H(markov_chain, m_ini, m_end, max_t,n):\n",
    "    gs = markov_chain.probability_H(m_ini,m_end,max_t)\n",
    "    gs_empirical = markov_chain.probability_empirical_H(m_ini,m_end,max_t,n)\n",
    "    \n",
    "    #fig, axs = plt.subplots(1, 3)\n",
    "    \n",
    "    #axs[0,0]\n",
    "    \n",
    "    plt.plot(np.arange(0,max_t+1),gs,\"--\",lw = 3,label = \"Theoretical\")\n",
    "    plt.plot(np.arange(0,max_t+1),gs_empirical,lw = 2,color = \"red\",alpha = 0.8,label = \"Empirical\")\n",
    "    plt.ylabel(\"g(t)\")\n",
    "    plt.xlabel(\"t\")\n",
    "    plt.legend()\n",
    "    \n",
    "    print(\"Maximum = {}\".format(max(gs)))\n",
    "    print(\"The maximum is in t = {}\".format(np.argmax(gs)))\n",
    "    plt.show()\n",
    "    "
   ]
  },
  {
   "cell_type": "code",
   "execution_count": 10,
   "id": "cfea8ecc",
   "metadata": {},
   "outputs": [
    {
     "name": "stderr",
     "output_type": "stream",
     "text": [
      "100%|██████████████████████████████████████████████████████████████████████████████████| 99/99 [00:45<00:00,  2.16it/s]"
     ]
    },
    {
     "name": "stdout",
     "output_type": "stream",
     "text": [
      "Maximum = 0.08629312499999998\n",
      "The maximum is in t = 5\n"
     ]
    },
    {
     "name": "stderr",
     "output_type": "stream",
     "text": [
      "\n"
     ]
    },
    {
     "data": {
      "image/png": "[encoded data removed]",
      "text/plain": [
       "<Figure size 432x288 with 1 Axes>"
      ]
     },
     "metadata": {
      "needs_background": "light"
     },
     "output_type": "display_data"
    }
   ],
   "source": [
    "plot_probability_H(mc,0,4,100,10**4)"
   ]
  },
  {
   "cell_type": "markdown",
   "id": "2c2cbf65",
   "metadata": {},
   "source": [
    "Podemos comprobar como la función $g(t)$ empírica, cuando aumentamos el número de veces que repetimos el experimento a un número suficientemente grande (en este caso, hemos usado $10^4$), aproxima de forma suficientemente buena a la función $g$ teórica que hemos hallado usando la recurrencia.\n",
    "\n",
    "Obtenemos que el número de instantes de tiempo en el que es más probable que tras ese número de instantes hayamos llegado desde el estado $0$ al estado $4$ es $5$, aunque con una probabilidad relativamente baja.\n",
    "\n",
    "**Ejercicio 5.-** Afirmo que $H_0^4 < H_0^5$ siempre. ¿ Es cierto ? ¿ Por qué sí ?\n",
    "\n",
    "Podemos mirar el grafo de la cadena de Markov para ver que la única forma de llegar al estado $5$ es habiendo pasado antes por el estado $4$. Además, vemos que del estado $4$ sólo puede llegarse al $5$, por lo que si $H_0^5 = t$, entonces obligatoriamente $H_0^4 \\leq t-1$ siempre, por lo que tenemos que $H_0^4 < H_0^5$ siempre."
   ]
  }
 ],
 "metadata": {
  "kernelspec": {
   "display_name": "Python 3 (ipykernel)",
   "language": "python",
   "name": "python3"
  },
  "language_info": {
   "codemirror_mode": {
    "name": "ipython",
    "version": 3
   },
   "file_extension": ".py",
   "mimetype": "text/x-python",
   "name": "python",
   "nbconvert_exporter": "python",
   "pygments_lexer": "ipython3",
   "version": "3.9.7"
  }
 },
 "nbformat": 4,
 "nbformat_minor": 5
}
