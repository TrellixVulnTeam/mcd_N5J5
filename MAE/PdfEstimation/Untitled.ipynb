{
 "cells": [
  {
   "cell_type": "markdown",
   "id": "c94f8acd",
   "metadata": {},
   "source": [
    "Tenemos que calcular $E\\left[\\hat{f}(x)\\right]$. Vamos primero a expresar el núcleo de otra manera. Tenemos que tratar con $ K\\left( \\frac{x - X_i}{h}\\right)$, siendo $K$ la función indicadora en el intervalo $(-1/2,1/2)$.  Podemos ver entonces que \n",
    "$$\n",
    " K\\left( \\frac{x - X_i}{h}\\right) = \\mathbb I_{(-1/2,1/2)} \\left( \\frac{x - X_i}{h}\\right) = \n",
    " \\begin{cases}\n",
    " 1 & \\left| \\frac{x - X_i}{h} \\right| < \\frac{1}{2}\\\\\n",
    " 0 & \\text{else}\n",
    " \\end{cases}\n",
    "$$\n",
    "Por lo que, si despejamos del miembro superior de la última igualdad, obtenemos que esta función será $1$ cuando:\n",
    "$$\n",
    "-\\frac{h}{2} < x - X_i < \\frac{h}{2} \\Longleftrightarrow x - \\frac{h}{2} < \\lvert X_i \\rvert <  x +\\frac{h}{2} \n",
    "$$\n",
    "\n",
    "Vemos que\n",
    "\\begin{align*}\n",
    "E\\left[\\hat{f}(x)\\right] & = E \\left[ \\frac{1}{nh} \\sum K\\left( \\frac{x - X_i}{h}\\right)\\right]\\\\\n",
    " & = \\frac{1}{nh}  \\sum  E \\left[  K\\left( \\frac{X_i - t}{h}\\right) \\right] \\\\\n",
    " &= \\frac{1}{nh}  \\sum \\int  K\\left( \\frac{X_i - t}{h}\\right) f(t) dt \\\\\n",
    " & = \\frac{1}{nh} \\sum \\int_{-\\frac{h}{2} - x}^{\\frac{h}{2}  + x} f(t) dt\\\\\n",
    " & =  \\frac{1}{nh} \\sum  P\\left(x -\\frac{h}{2}  \\leq X_i \\leq x + \\frac{h}{2}\\right)\n",
    "\\end{align*}\n",
    "Ahora, como estas probabilidades son la misma para cualquiera de las $X_i$ y sabiendo que los miembros de la sumatoria son la definición de la función de distribución, podemos escribir eso como:\n",
    "$$\n",
    "E\\left[\\hat{f}(x)\\right] = \\frac{F(x + \\frac{h}{2}) - F(x -\\frac{h}{2})}{h}\n",
    "$$\n",
    "\n",
    "Con esto, podemos decir que\n",
    "$$\n",
    "Bias(\\hat{f}(x)) = E\\left[\\hat{f}(x)\\right] - f(x) = \\frac{F(x + \\frac{h}{2}) - F(x -\\frac{h}{2})}{h} - f(x)\n",
    "$$\n",
    "\n",
    "Vamos a calcular ahora la varianza de $\\hat{f}(x)$. Sabemos que\n",
    "$$\n",
    "Var(\\hat{f}(x)) = Var(\\frac{1}{nh} \\sum K\\left( \\frac{x - X_i}{h}\\right)) = \\frac{1}{n^2 h^2} \\sum Var\\left(K\\left( \\frac{x - X_i}{h}\\right)\\right) = \\frac{n}{n^2 h^2} Var\\left(K\\left( \\frac{x - X_i}{h}\\right)\\right)\n",
    "$$\n",
    "Donde, en la última igualdad hemos usado que la varianza para todas las variables es la misma pues siguen la misma $f$. Calculemos entonces $Var\\left(K\\left( \\frac{x - X_i}{h}\\right)\\right)$.\n",
    "$$\n",
    "Var\\left(K\\left( \\frac{x - X_i}{h}\\right)\\right) = E\\left[K\\left( \\frac{x - X_i}{h}\\right)^2\\right] - E\\left[K\\left( \\frac{x - X_i}{h}\\right)\\right]^2\n",
    "$$\n",
    "Pero, sabemos que al ser una función indicadora, $K(x)^2 = K(x)$, por lo que tenemos (usando lo que hemos calculado en el ejercicio anterior):\n",
    "\\begin{align*}\n",
    "Var\\left(K\\left( \\frac{x - X_i}{h}\\right)\\right) & = E\\left[K\\left( \\frac{x - X_i}{h}\\right)\\right] - E\\left[K\\left( \\frac{x - X_i}{h}\\right)\\right]^2 \\\\\n",
    "& = P\\left(x -\\frac{h}{2}  \\leq X_i \\leq x + \\frac{h}{2}\\right) - P\\left(x -\\frac{h}{2}  \\leq X_i \\leq x + \\frac{h}{2}\\right)^2\\\\\n",
    "& = F(x + \\frac{h}{2}) - F(x -\\frac{h}{2})  \\left(1 - \\left(F(x + \\frac{h}{2}) - F(x -\\frac{h}{2})\\right)\\right)\n",
    "\\end{align*}\n",
    "Por lo que \n",
    "$$\n",
    "Var(\\hat{f}(x)) = \\frac{F(x + \\frac{h}{2}) - F(x -\\frac{h}{2})  \\left(1 - \\left(F(x + \\frac{h}{2}) - F(x -\\frac{h}{2})\\right)\\right)}{n h^2}\n",
    "$$\n"
   ]
  },
  {
   "cell_type": "code",
   "execution_count": 2,
   "id": "bad9ebcd",
   "metadata": {},
   "outputs": [
    {
     "name": "stderr",
     "output_type": "stream",
     "text": [
      "-- \u001b[1mAttaching packages\u001b[22m ------------------------------------------------------------------------------- tidyverse 1.3.1 --\n",
      "\n",
      "\u001b[32mv\u001b[39m \u001b[34mggplot2\u001b[39m 3.3.5     \u001b[32mv\u001b[39m \u001b[34mpurrr  \u001b[39m 0.3.4\n",
      "\u001b[32mv\u001b[39m \u001b[34mtibble \u001b[39m 3.1.5     \u001b[32mv\u001b[39m \u001b[34mdplyr  \u001b[39m 1.0.7\n",
      "\u001b[32mv\u001b[39m \u001b[34mtidyr  \u001b[39m 1.1.4     \u001b[32mv\u001b[39m \u001b[34mstringr\u001b[39m 1.4.0\n",
      "\u001b[32mv\u001b[39m \u001b[34mreadr  \u001b[39m 2.0.2     \u001b[32mv\u001b[39m \u001b[34mforcats\u001b[39m 0.5.1\n",
      "\n",
      "-- \u001b[1mConflicts\u001b[22m ---------------------------------------------------------------------------------- tidyverse_conflicts() --\n",
      "\u001b[31mx\u001b[39m \u001b[34mdplyr\u001b[39m::\u001b[32mfilter()\u001b[39m masks \u001b[34mstats\u001b[39m::filter()\n",
      "\u001b[31mx\u001b[39m \u001b[34mdplyr\u001b[39m::\u001b[32mlag()\u001b[39m    masks \u001b[34mstats\u001b[39m::lag()\n",
      "\n",
      "\n",
      "Attaching package: 'reshape2'\n",
      "\n",
      "\n",
      "The following object is masked from 'package:tidyr':\n",
      "\n",
      "    smiths\n",
      "\n",
      "\n"
     ]
    }
   ],
   "source": [
    "\n",
    "library(tidyverse)\n",
    "library(reshape2)"
   ]
  },
  {
   "cell_type": "code",
   "execution_count": 3,
   "id": "07107a0e",
   "metadata": {},
   "outputs": [],
   "source": [
    "alpha <- 3\n",
    "beta <- 6"
   ]
  },
  {
   "cell_type": "code",
   "execution_count": 4,
   "id": "02f1757f",
   "metadata": {},
   "outputs": [
    {
     "data": {
      "image/png": "[encoded data removed]",
      "text/plain": [
       "plot without title"
      ]
     },
     "metadata": {
      "image/png": {
       "height": 420,
       "width": 420
      }
     },
     "output_type": "display_data"
    }
   ],
   "source": [
    "x <- seq(0, 1, 0.01) \n",
    "beta_dist <- data.frame(x = x, y = dbeta(x,shape1=alpha,shape2=beta))\n",
    "beta_melt <- melt(beta_dist,x)\n",
    "g <- ggplot(beta_melt, aes(x,value, color=variable))\n",
    "g+geom_line(size=2) + labs(title=\"Beta Distribution\") + labs(x=\"Probability\", y=\"Probability for Probability\")"
   ]
  },
  {
   "cell_type": "code",
   "execution_count": 5,
   "id": "f8adc53d",
   "metadata": {},
   "outputs": [],
   "source": [
    "rkernel <- function(n, data, h){\n",
    "  # genera n observaciones de una distribución correspondiente a un estimador\n",
    "  # del núcleo (calculado con 'muestra') con núcleo gaussiano y parámetro de suavizado h\n",
    "  y = sample(data, n, rep = TRUE) + rnorm(n, sd = h)\n",
    "  return(y)\n",
    "}"
   ]
  },
  {
   "cell_type": "code",
   "execution_count": 6,
   "id": "7f1d42f8",
   "metadata": {},
   "outputs": [],
   "source": [
    "n <- 20\n",
    "sample <- rbeta(n,alpha,beta)\n",
    "kernel_estimator <- density(sample)\n",
    "h <- kernel_estimator$bw\n",
    "kernel_data <- rkernel(n, sample, h)"
   ]
  },
  {
   "cell_type": "code",
   "execution_count": 18,
   "id": "0bc45fd7",
   "metadata": {},
   "outputs": [
    {
     "name": "stderr",
     "output_type": "stream",
     "text": [
      "Warning message:\n",
      "\"Removed 15 row(s) containing missing values (geom_path).\"\n"
     ]
    },
    {
     "data": {
      "image/png": "[encoded data removed]",
      "text/plain": [
       "plot without title"
      ]
     },
     "metadata": {
      "image/png": {
       "height": 420,
       "width": 420
      }
     },
     "output_type": "display_data"
    }
   ],
   "source": [
    "\n",
    "sample  <- data.frame(x = rbeta(n,alpha,beta))\n",
    "\n",
    "data <- data.frame( x = sample)\n",
    "\n",
    "ggplot(NULL) +\n",
    "    stat_ecdf(data = data,aes(x,colour=\"Estimated C.D.F\")) +\n",
    "    stat_ecdf(data = data,aes(x), geom = 'point') +\n",
    "    stat_function(fun=dbeta,aes(colour='P.D.F.'),args=list(shape1=alpha,shape2=beta),size=1)+\n",
    "    geom_line(aes(x=kernel_estimator$x,y=kernel_estimator$y,colour=\"Kernel-estimated pdf\"),size=1)+\n",
    "    scale_color_manual(\"Legend\",values=c(\"blue\",\"red\",\"green\"))+\n",
    "    xlim(-0.01,1.01)\n",
    "    "
   ]
  },
  {
   "cell_type": "code",
   "execution_count": 15,
   "id": "c1b36941",
   "metadata": {},
   "outputs": [],
   "source": [
    "num_experiments <- 200\n",
    "experiment_size <- 20\n",
    "all_samples <- rbeta(num_experiments*experiment_size,alpha,beta)\n",
    "kernel_estimator <- density(all_samples)\n",
    "errors_f <- rep(NA,num_experiments)\n",
    "errors_F <- rep(NA,num_experiments)\n",
    "for (i in 0:num_experiments){\n",
    "    sample <- rbeta(experiment_size,alpha,beta)\n",
    "    kernel_estimator <- density(sample)\n",
    "    \n",
    "    \n",
    "    h <- kernel_estimator$bw\n",
    "    kernel_data <- rkernel(n, sample, h)\n",
    "    \n",
    "    errors_f[i+1] <- ks.test(kernel_estimator$x, \"pbeta\",alpha,beta)$statistic\n",
    "    errors_F[i+1] <- ks.test(sample,\"dbeta\",alpha,beta)$statistic\n",
    "\n",
    "}\n"
   ]
  },
  {
   "cell_type": "code",
   "execution_count": 16,
   "id": "50a73d62",
   "metadata": {},
   "outputs": [
    {
     "data": {
      "text/plain": [
       "   Min. 1st Qu.  Median    Mean 3rd Qu.    Max. \n",
       " 0.1103  0.2053  0.2328  0.2353  0.2619  0.3575 "
      ]
     },
     "metadata": {},
     "output_type": "display_data"
    }
   ],
   "source": [
    "summary(errors_f)"
   ]
  },
  {
   "cell_type": "code",
   "execution_count": 17,
   "id": "51c3786b",
   "metadata": {},
   "outputs": [
    {
     "data": {
      "text/plain": [
       "   Min. 1st Qu.  Median    Mean 3rd Qu.    Max. \n",
       "  1.831   2.129   2.195   2.199   2.277   2.449 "
      ]
     },
     "metadata": {},
     "output_type": "display_data"
    }
   ],
   "source": [
    "summary(errors_F)"
   ]
  },
  {
   "cell_type": "code",
   "execution_count": null,
   "id": "77d6a286",
   "metadata": {},
   "outputs": [],
   "source": []
  }
 ],
 "metadata": {
  "kernelspec": {
   "display_name": "R",
   "language": "R",
   "name": "ir"
  },
  "language_info": {
   "codemirror_mode": "r",
   "file_extension": ".r",
   "mimetype": "text/x-r-source",
   "name": "R",
   "pygments_lexer": "r",
   "version": "4.1.2"
  }
 },
 "nbformat": 4,
 "nbformat_minor": 5
}
