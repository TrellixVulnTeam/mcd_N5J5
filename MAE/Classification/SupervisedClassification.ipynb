{
 "cells": [
  {
   "cell_type": "markdown",
   "id": "dd305e29",
   "metadata": {},
   "source": [
    "# Ejercicio 4\n",
    "\n",
    "Sea $(X,Y) \\in \\mathbb R^2$ un vector aleatorio tal que la distribución de $Y$ condicionada a $X$ es de Bernoulli de parámetro $(1 +e^{-\\beta X})^{-1}$, donde $\\beta \\in \\mathbb R$ y $P( Y = 0)  = P(Y = 1) = \\frac{1}{2}$. Supongamos que queremos predecir $Y$ a partir de $X$. Responde a las siguientes preguntas, dejando el resultado en función del parámetro $\\beta$.\n",
    "\n",
    "1. Determina la regla de clasificación óptima en este modelo.\n",
    "2. Si $X$ tiene distribución uniforme en $(0,1)$, calcula el error de la regla de clasificación del apartado anterior (error Bayes)\n",
    "3. Si $X$ tiene distribución uniforme en $(0,1)$, calcula $\\lim_{n\\to \\infty} EL_n$ donde $L_n$ es la probabilidad de error correspondiente al clasificador del vecino más próximo. Compara el resultado con el del apartado anterior.\n",
    "\n",
    "**Solución.-**\n",
    "\n",
    "Identificamos primero los elementos de nuestor problema. Nos dice el enunciado que la distribución $Y|X$ viene dada por:\n",
    "$$\n",
    "Y|X \\sim Bern\\left( \\left(1+ e^{-\\beta X}\\right)^{-1}\\right).\n",
    "$$\n",
    "Si nos fijamos en el parámetro de la distribución de Bernoulli, vemos que esto es la función logística aplicada al punto $x$, que sabemos que está fijo pues estamos dando la distribución condicionada $Y|X = x$. Por tanto, si llamamos $f$ a la función logística, y apli tenemos que \n",
    "$$\n",
    "Y|X \\sim Bern \\left(f(x)\\right).\n",
    "$$\n",
    "Dado que $x$ está fijo y sabiendo que función logística nos da la probabilidad de éxito, f(x) = $P(Y=1|X=x)$, podemos llamar $f(x) = p$, y tener así que\n",
    "$$\n",
    "Y|X \\sim Bern(p)\n",
    "$$\n",
    "\n",
    "Además, sabemos que \n",
    "Recordamos que hemos definido $\\eta(x) = P(Y=1|X = x)$. Con esta definición, se define la regla de Bayes como:\n",
    "$$\n",
    "g^*(x) = \\begin{cases}1, & \\eta(x) > 1/2 \\\\ 0, & \\eta(x) \\leq 1/2\\end{cases},\n",
    "$$\n",
    "\n",
    "Y, aplicada a nuestro problema, sabiendo que $\\eta(x) = f(x)$, tenemos que \n",
    "$$\n",
    "g^*(x) = \\begin{cases}1, & f(x) > 1/2 \\\\ 0, & f(x) \\leq 1/2\\end{cases}.\n",
    "$$\n",
    "\n",
    "\n",
    "## Apartado b\n",
    "\n",
    "Ahora, sabemos que el error de $g^*(x)$ de Bayes es\n",
    "$$\n",
    "L^* = P(g^*(X) \\neq Y )\n",
    "$$\n",
    "que, si lo expresamos en función de $\\eta(x) = f(x)$, es\n",
    "$$\n",
    "L^* = \\frac{1}{2} \\left(1 - \\mathbb E\\left[ | 2 \\eta(X) - 1| \\right] \\right) = \\frac{1}{2} \\left(1 - \\mathbb E\\left[ | 2 f(x) - 1| \\right] \\right). \n",
    "$$\n",
    "\n",
    "Tenemos entonces que calcular\n",
    "$$\n",
    "E\\left[ | 2 f(x) - 1| \\right] = \\int_\\Omega |2f(x) - 1| f_X(x) dx \\stackrel{(1)}{=} \\int_0^1  |2f(x) - 1| dx, \n",
    "$$\n",
    "donde en $(1)$ hemos usado que $f_X(x)$ es la función de densidad de una $U(0,1)$. Tenemos entonces que distinguir dos casos para eliminar ese valor absoluto. Veamos cómo se distinguen, usando que $f(x)$ es la función logística:\n",
    "\n",
    "$$\n",
    "2f(x) - 1 > 0 \\Leftrightarrow f(x) > \\frac{1}{2} \\Leftrightarrow 1 + e^{-\\beta x} < 2 \\Leftrightarrow -\\beta x < 0 \\stackrel{(2)} \\Leftrightarrow \\beta > 0\n",
    "$$\n",
    "donde en $(2)$ hemos usado que, como $x \\sim U(0,1)$, se tiene que $x > 0$. Es por esto que tenemos que\n",
    "$$\n",
    "E\\left[ | 2 f(x) - 1| \\right] =\n",
    "\\begin{cases}\n",
    "\\int_0^1 (2f(x) - 1) dx & \\text{ si } \\beta > 0 \\\\\n",
    "\\int_0^1  (-2f(x) + 1) dx & \\text{ si } \\beta < 0\\end{cases}\n",
    "$$\n",
    "El único término que debemos integrar en ambos casos de forma no inmediata es $f(x)$. Vamos a calcular pues su integral entre $0$ y $1$.\n",
    "\n",
    "$$\n",
    "\\int_0^1 f(x) = \\int_0^1 \\frac{1}{1 + e^{-\\beta x}} dx = \\int_0^1 \\frac{-\\beta e^{-\\beta x}}{-\\beta e^{-\\beta x}} \\frac{1}{1 + e^{-\\beta x}}dx = \\frac{1}{\\beta} \\log\\left( \\frac{1 + e^{-\\beta}}{2} \\right)\n",
    "$$\n",
    "Por lo que, sustituyendo esta integral en el cálculo de la esperanza, tenemos:\n",
    "\n",
    "$$\n",
    "E\\left[ | 2 f(x) - 1| \\right] = \n",
    "\\begin{cases}\n",
    "\\frac{2}{\\beta} \\log\\left( \\frac{1 + e^{-\\beta}}{2} \\right) - 1 & \\text{ si } \\beta > 0 \\\\\n",
    "\\frac{-2}{\\beta} \\log\\left( \\frac{1 + e^{-\\beta}}{2} \\right) + 1  & \\text{ si } \\beta < 0\n",
    "\\end{cases}\n",
    "$$"
   ]
  },
  {
   "cell_type": "markdown",
   "id": "55176310",
   "metadata": {},
   "source": [
    "Por lo que, nuestro error Bayes final es\n",
    "\n",
    "$$\n",
    "L^* = \n",
    " \\begin{cases}\n",
    " \\frac{1}{2} \\left(1 - \\left(\\frac{2}{\\beta} \\log\\left( \\frac{1 + e^{-\\beta}}{2} \\right) - 1\\right) \\right) & \\text{ si } \\beta > 0 \\\\\n",
    "\\frac{1}{2} \\left( 1 - \\left( \\frac{-2}{\\beta} \\log\\left( \\frac{1 + e^{-\\beta}}{2} \\right) + 1 \\right) \\right)  & \\text{ si } \\beta < 0\n",
    "\\end{cases}\n",
    "= \n",
    "\\begin{cases}\n",
    " - \\frac{1}{\\beta} \\log\\left( \\frac{1 + e^{-\\beta}}{2} \\right) + 1 & \\text{ si } \\beta > 0 \\\\\n",
    "\\frac{1}{\\beta} \\log\\left( \\frac{1 + e^{-\\beta}}{2} \\right)  & \\text{ si } \\beta < 0\n",
    "\\end{cases}\n",
    "$$\n",
    "\n",
    "## Apartado c\n",
    "\n",
    "Se nos pide para final calcular\n",
    "$$\n",
    "\\lim_{n\\to \\infty} EL_n,\n",
    "$$\n",
    "siendo $L_n$ la probabilidad de error correspondiente al clasificador del vecino más cercano. Para ello, sabemos que se puede demostrar formalmente que \n",
    "$$\n",
    "\\lim_{n\\to \\infty} EL_n = L_{\\text{1NN}} = 2 \\mathbb E[\\eta(x)(1-\\eta(x))].\n",
    "$$\n",
    "Sabiendo esto, lo que debemos hacer es calcular la integral del argumento de la esperanza para terminar con el ejercicio. Podemos razonar igual que en el caso anterior, usando también que $f_X(x) = 1$ en $[0,1]$ para cambiar los límites de la integral y obtener el resultado de forma sencilla:\n",
    "\\begin{align*}\n",
    "\\mathbb E[\\eta(x)(1-\\eta(x))] & = \\int_\\Omega \\left(\\eta(x)(1-\\eta(x)\\right) f_X(x) dx \\\\\n",
    "& = \\int_0^1 f(x)(1-f(x)) dx\\\\\n",
    "& = \\int_0^1 \\frac{1}{1 + e^{-\\beta x}} \\left( 1- \\frac{1}{1 + e^{-\\beta x}} \\right) dx \\\\\n",
    "& = \\int_0^1 \\frac{e^{-\\beta x}}{\\left( 1 + e^{-\\beta x}\\right)^2}dx\\\\\n",
    "& = \\frac{1}{-\\beta}\\int_0^1 -\\beta e^{-\\beta x}\\left( 1 + e^{-\\beta x}\\right)^{-2} dx\\\\\n",
    "& = \\frac{-1}{\\beta} \\left[\\left(1 + e^{-\\beta x} \\right)^{-1} \\right]_0^1 \\\\\n",
    "& = \\frac{-1}{\\beta e^{-\\beta x}} \n",
    "\\end{align*}"
   ]
  },
  {
   "cell_type": "markdown",
   "id": "877a11de",
   "metadata": {},
   "source": [
    "# Ejercicio 6\n",
    "\n",
    "En un experimento descrito en Prentice (1976) se expuso una muestra de escarabajos a cierto pesticida. Tras cinco horas de exposición a distintos niveles de concentración del pesticida algunos de los escarabajos murieron y otros sobrevivieron. Los resultados para cada dosis aparecen en la tabla siguiente:\n",
    "\n",
    "| Dosis  | N. insectos | N. muertos |\n",
    "|--------|-------------|------------|\n",
    "| 1.6907 | 59          | 6          |\n",
    "| 1.7242 | 60          | 13         |\n",
    "| 1.7552 | 62          | 18         |\n",
    "| 1.7842 | 56          | 28         |\n",
    "| 1.8113 | 63          | 52         |\n",
    "| 1.8369 | 59          | 53         |\n",
    "| 1.8610 | 62          | 61         |\n",
    "| 1.8839 | 60          | 60         |\n",
    "\n",
    "Formula un modelo de regresión logística para analizar estos datos y estima la probabilidad de que muera un escarabajo expuesto durante cinco horas a una dosis de concentración 1.8\n",
    "\n",
    "**Solución .-**\n",
    "\n",
    "En nuestro problema, queremos ajustar un modelo de regresión logística usando los datos que tenemos en la tabla. Lo primero que nos interesa saber es, usando esos datos, cuál es la probabilidad de morir que tiene un escarabajo según la cantidad de Dosis que ha recibido. Para esto, basta con hacer el cociente $N.muertos/N.insectos$. Obtenemos una nueva tabla:"
   ]
  },
  {
   "cell_type": "code",
   "execution_count": 1,
   "id": "2c467c90",
   "metadata": {},
   "outputs": [
    {
     "data": {
      "text/html": [
       "<table class=\"dataframe\">\n",
       "<caption>A data.frame: 8 × 2</caption>\n",
       "<thead>\n",
       "\t<tr><th scope=col>dose</th><th scope=col>probability</th></tr>\n",
       "\t<tr><th scope=col>&lt;dbl&gt;</th><th scope=col>&lt;dbl&gt;</th></tr>\n",
       "</thead>\n",
       "<tbody>\n",
       "\t<tr><td>1.6907</td><td>0.1016949</td></tr>\n",
       "\t<tr><td>1.7242</td><td>0.2166667</td></tr>\n",
       "\t<tr><td>1.7552</td><td>0.2903226</td></tr>\n",
       "\t<tr><td>1.7842</td><td>0.5000000</td></tr>\n",
       "\t<tr><td>1.8113</td><td>0.8253968</td></tr>\n",
       "\t<tr><td>1.8369</td><td>0.8983051</td></tr>\n",
       "\t<tr><td>1.8610</td><td>0.9838710</td></tr>\n",
       "\t<tr><td>1.8839</td><td>1.0000000</td></tr>\n",
       "</tbody>\n",
       "</table>\n"
      ],
      "text/latex": [
       "A data.frame: 8 × 2\n",
       "\\begin{tabular}{ll}\n",
       " dose & probability\\\\\n",
       " <dbl> & <dbl>\\\\\n",
       "\\hline\n",
       "\t 1.6907 & 0.1016949\\\\\n",
       "\t 1.7242 & 0.2166667\\\\\n",
       "\t 1.7552 & 0.2903226\\\\\n",
       "\t 1.7842 & 0.5000000\\\\\n",
       "\t 1.8113 & 0.8253968\\\\\n",
       "\t 1.8369 & 0.8983051\\\\\n",
       "\t 1.8610 & 0.9838710\\\\\n",
       "\t 1.8839 & 1.0000000\\\\\n",
       "\\end{tabular}\n"
      ],
      "text/markdown": [
       "\n",
       "A data.frame: 8 × 2\n",
       "\n",
       "| dose &lt;dbl&gt; | probability &lt;dbl&gt; |\n",
       "|---|---|\n",
       "| 1.6907 | 0.1016949 |\n",
       "| 1.7242 | 0.2166667 |\n",
       "| 1.7552 | 0.2903226 |\n",
       "| 1.7842 | 0.5000000 |\n",
       "| 1.8113 | 0.8253968 |\n",
       "| 1.8369 | 0.8983051 |\n",
       "| 1.8610 | 0.9838710 |\n",
       "| 1.8839 | 1.0000000 |\n",
       "\n"
      ],
      "text/plain": [
       "  dose   probability\n",
       "1 1.6907 0.1016949  \n",
       "2 1.7242 0.2166667  \n",
       "3 1.7552 0.2903226  \n",
       "4 1.7842 0.5000000  \n",
       "5 1.8113 0.8253968  \n",
       "6 1.8369 0.8983051  \n",
       "7 1.8610 0.9838710  \n",
       "8 1.8839 1.0000000  "
      ]
     },
     "metadata": {},
     "output_type": "display_data"
    }
   ],
   "source": [
    "dose <- c(1.6907, 1.7242, 1.7552, 1.7842, 1.8113, 1.8369, 1.8610, 1.8839 )\n",
    "n_insects <- c(59, 60, 62, 56, 63, 59, 62, 60)\n",
    "n_deaths <- c( 6, 13, 18, 28, 52, 53, 61, 60)\n",
    "\n",
    "probability <- n_deaths/n_insects\n",
    "\n",
    "df <- data.frame ( \"dose\" =  dose, \"probability\" = probability)\n",
    "df"
   ]
  },
  {
   "cell_type": "markdown",
   "id": "32f23ecd",
   "metadata": {},
   "source": [
    "Una vez obtenida esta tabla, presentamos los elementos de nuestro problema de regresión logística. Tenemos\n",
    "\n",
    "- $n=1$ variables regresoras, en este caso `dose`.\n",
    "- $n=1$ variables de salida, $Y$, que será la probabilidad que tiene un escarabajo de morir. \n",
    "- Por tanto, nuesta probabilidad de éxito puede medirse usando la función logística del siguiente modo:\n",
    "$$\n",
    "\\eta(x) = f(\\beta_0 + \\beta_1 x_1) = \\frac{1}{1+ e^{-\\beta_0 - \\beta_1 x_1}}\n",
    "$$\n",
    "\n",
    "Visualizamos nuestro conjunto de datos primero"
   ]
  },
  {
   "cell_type": "code",
   "execution_count": 2,
   "id": "8be8012f",
   "metadata": {},
   "outputs": [
    {
     "name": "stderr",
     "output_type": "stream",
     "text": [
      "Loading required package: ggplot2\n",
      "\n",
      "Loading required package: reshape2\n",
      "\n"
     ]
    },
    {
     "data": {
      "image/png": "[encoded data removed]",
      "text/plain": [
       "plot without title"
      ]
     },
     "metadata": {
      "image/png": {
       "height": 420,
       "width": 420
      }
     },
     "output_type": "display_data"
    }
   ],
   "source": [
    "require(ggplot2)\n",
    "require(reshape2)\n",
    "ggplot(df, aes(dose,probability))+\n",
    "    geom_point(color = \"blue\", size=3)"
   ]
  },
  {
   "cell_type": "markdown",
   "id": "2605c43d",
   "metadata": {},
   "source": [
    "Procedemos entonces a ajustar el modelo de regresión logística a estos datos. El modelo de regresión que ajustaremos será un modelo lineal generalizado. \n",
    "\n",
    "Como comentario, utilizamos como familia la `quasibinomial`. El resultado que se obtiene para la predicción del punto es el mismo, pero evitamos un *Warning* de `R` informándonos de que estamos usando números no enteros para el número de `#sucesses` en una regresión logística con familia binomial."
   ]
  },
  {
   "cell_type": "code",
   "execution_count": 82,
   "id": "c450405e",
   "metadata": {},
   "outputs": [],
   "source": [
    "reg <- glm(probability ~ dose, family = quasibinomial, data = df)"
   ]
  },
  {
   "cell_type": "code",
   "execution_count": 83,
   "id": "d8f1b928",
   "metadata": {},
   "outputs": [
    {
     "data": {
      "text/plain": [
       "\n",
       "Call:\n",
       "glm(formula = probability ~ dose, family = quasibinomial, data = df)\n",
       "\n",
       "Deviance Residuals: \n",
       "     Min        1Q    Median        3Q       Max  \n",
       "-0.20933  -0.04659   0.10858   0.16310   0.20807  \n",
       "\n",
       "Coefficients:\n",
       "            Estimate Std. Error t value Pr(>|t|)    \n",
       "(Intercept)  -60.459      6.701  -9.023 0.000104 ***\n",
       "dose          34.121      3.766   9.059 0.000101 ***\n",
       "---\n",
       "Signif. codes:  0 '***' 0.001 '**' 0.01 '*' 0.05 '.' 0.1 ' ' 1\n",
       "\n",
       "(Dispersion parameter for quasibinomial family taken to be 0.02798728)\n",
       "\n",
       "    Null deviance: 4.71186  on 7  degrees of freedom\n",
       "Residual deviance: 0.18871  on 6  degrees of freedom\n",
       "AIC: NA\n",
       "\n",
       "Number of Fisher Scoring iterations: 5\n"
      ]
     },
     "metadata": {},
     "output_type": "display_data"
    }
   ],
   "source": [
    "summary(reg)"
   ]
  },
  {
   "cell_type": "markdown",
   "id": "f407fc41",
   "metadata": {},
   "source": [
    "Como podemos comprobar, se estima que los parámetros son $\\beta_ 0  = -60.459$ y $\\beta_1 = 34.121$, por lo que nuestro modelo de regresión logística es\n",
    "\n",
    "$$\n",
    "\\eta(x) = f(-60.459+ 34.121 x) = \\frac{1}{1+ e^{60.459 - 34.121 x}}\n",
    "$$"
   ]
  },
  {
   "cell_type": "code",
   "execution_count": 84,
   "id": "dd12a5be",
   "metadata": {},
   "outputs": [
    {
     "name": "stdout",
     "output_type": "stream",
     "text": [
      "The probability of dying of an individual when the dose is 1.8 is 0.7229837"
     ]
    }
   ],
   "source": [
    "new_data <- data.frame(dose = c( 1.8 ))\n",
    "prob <- predict(reg, newdata = new_data, type = \"response\")\n",
    "\n",
    "cat(\"The probability of dying of an individual when the dose is 1.8 is\", prob)"
   ]
  },
  {
   "cell_type": "markdown",
   "id": "53e24de5",
   "metadata": {},
   "source": [
    "Podemos hacer un gráfico de nuestro modelo (en negro), junto con los puntos iniciales (en azul), además de la predicción para el punto que se nos pedía (en rojo):"
   ]
  },
  {
   "cell_type": "code",
   "execution_count": 81,
   "id": "75241046",
   "metadata": {},
   "outputs": [
    {
     "data": {
      "image/png": "[encoded data removed]",
      "text/plain": [
       "plot without title"
      ]
     },
     "metadata": {
      "image/png": {
       "height": 420,
       "width": 420
      }
     },
     "output_type": "display_data"
    }
   ],
   "source": [
    "\n",
    "ggplot(df, aes(x = dose, y = probability)) +\n",
    "    geom_point(aes(colour = \"Original points\"), size = 3)+\n",
    "    geom_point(aes(x = 1.8, y = prob, colour = \"Predicted at dose = 1.8\"), size = 4 ) + \n",
    "    geom_smooth(formula = y ~ x, method = glm, method.args = list(family = quasibinomial), aes(colour =\"Logistic regression model\"))+\n",
    "    scale_colour_manual(name=\"\", values=c(\"black\", \"blue\", \"red\")) + \n",
    "    theme(legend.position='bottom')"
   ]
  }
 ],
 "metadata": {
  "kernelspec": {
   "display_name": "R",
   "language": "R",
   "name": "ir"
  },
  "language_info": {
   "codemirror_mode": "r",
   "file_extension": ".r",
   "mimetype": "text/x-r-source",
   "name": "R",
   "pygments_lexer": "r",
   "version": "4.1.2"
  }
 },
 "nbformat": 4,
 "nbformat_minor": 5
}
